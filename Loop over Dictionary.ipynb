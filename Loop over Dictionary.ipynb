{
 "cells": [
  {
   "cell_type": "code",
   "execution_count": 2,
   "metadata": {},
   "outputs": [],
   "source": [
    "import json"
   ]
  },
  {
   "cell_type": "code",
   "execution_count": 3,
   "metadata": {},
   "outputs": [
    {
     "name": "stdout",
     "output_type": "stream",
     "text": [
      "{'52fe49d29251416c750d4641': {'title': \"Amblin'\", 'release_date': '1968-12-18'}, '5700afc4c3a3686e980049f1': {'title': 'Night Gallery', 'release_date': '1969-11-08'}, '5967ba58c3a36879cb005d3f': {'title': 'LA 2017', 'release_date': '1971-01-15'}, '52fe427ec3a36847f8023361': {'title': 'Duel', 'release_date': '1971-11-13'}, '52fe49459251416c910a7f33': {'title': 'Something Evil', 'release_date': '1972-01-21'}, '52fe4ae4c3a36847f81e7215': {'title': 'Savage', 'release_date': '1973-03-31'}, '52fe43f4c3a36847f807a475': {'title': 'The Sugarland Express', 'release_date': '1974-04-05'}, '52fe4255c3a36847f801601f': {'title': 'Jaws', 'release_date': '1975-06-20'}, '52fe427ec3a36847f8023453': {'title': 'Close Encounters of the Third Kind', 'release_date': '1977-11-18'}, '52fe44509251416c750306d3': {'title': '1941', 'release_date': '1979-12-14'}, '52fe4215c3a36847f8002a01': {'title': 'Raiders of the Lost Ark', 'release_date': '1981-06-12'}, '52fe425bc3a36847f8017ddd': {'title': 'E.T. the Extra-Terrestrial', 'release_date': '1982-06-11'}, '52fe464c9251416c75073d33': {'title': 'Twilight Zone: The Movie', 'release_date': '1983-06-24'}, '52fe4215c3a36847f8002bf9': {'title': 'Indiana Jones and the Temple of Doom', 'release_date': '1984-05-23'}, '52fe4285c3a36847f80257ad': {'title': 'The Color Purple', 'release_date': '1985-12-18'}, '5c445f3cc3a3681a06246edf': {'title': 'Amazing Stories', 'release_date': '1986-07-10'}, '52fe43299251416c75005c95': {'title': 'Empire of the Sun', 'release_date': '1987-12-09'}, '52fe4216c3a36847f8002df5': {'title': 'Indiana Jones and the Last Crusade', 'release_date': '1989-05-24'}, '52fe442c9251416c7502b551': {'title': 'Always', 'release_date': '1989-12-22'}, '52fe4286c3a36847f8025c0d': {'title': 'Hook', 'release_date': '1991-04-10'}, '52fe4238c3a36847f800d291': {'title': 'Jurassic Park', 'release_date': '1993-06-11'}, '52fe4241c3a36847f801024d': {'title': \"Schindler's List\", 'release_date': '1993-11-30'}, '52fe4238c3a36847f800d3ad': {'title': 'The Lost World: Jurassic Park', 'release_date': '1997-05-23'}, '52fe448e9251416c75038f15': {'title': 'Amistad', 'release_date': '1997-12-10'}, '52fe4283c3a36847f8024ac1': {'title': 'Saving Private Ryan', 'release_date': '1998-07-24'}, '601db575202e1100415a99bf': {'title': 'The Unfinished Journey', 'release_date': '1999-12-31'}, '52fe4263c3a36847f801a96b': {'title': 'A.I. Artificial Intelligence', 'release_date': '2001-06-29'}, '52fe4223c3a36847f8006f3d': {'title': 'Minority Report', 'release_date': '2002-06-20'}, '52fe4262c3a36847f801a5c3': {'title': 'Catch Me If You Can', 'release_date': '2002-12-25'}, '52fe4259c3a36847f801761f': {'title': 'The Terminal', 'release_date': '2004-06-17'}, '52fe4213c3a36847f8002225': {'title': 'War of the Worlds', 'release_date': '2005-06-28'}, '52fe425dc3a36847f8018a53': {'title': 'Munich', 'release_date': '2005-12-23'}, '52fe4227c3a36847f800846d': {'title': 'Indiana Jones and the Kingdom of the Crystal Skull', 'release_date': '2008-05-21'}, '5a7221930e0a265b040102c1': {'title': 'A Timeless Call', 'release_date': '2008-08-07'}, '52fe47349251416c7509142d': {'title': 'The Adventures of Tintin', 'release_date': '2011-10-24'}, '52fe4928c3a36847f818c11d': {'title': 'War Horse', 'release_date': '2011-12-25'}, '52fe4886c3a368484e0fd421': {'title': 'Lincoln', 'release_date': '2012-11-09'}, '5430507dc3a36831ac001073': {'title': 'Bridge of Spies', 'release_date': '2015-10-15'}, '536445f0c3a3681238000367': {'title': 'The BFG', 'release_date': '2016-06-01'}, '58c4313ac3a36853360000ff': {'title': 'The Post', 'release_date': '2017-01-19'}, '551975f0925141731c003965': {'title': 'Ready Player One', 'release_date': '2018-03-28'}, '5aa9a77a9251410564000612': {'title': 'West Side Story', 'release_date': '2021-12-08'}, '6047b8ab54508d0077575f79': {'title': 'The Fabelmans', 'release_date': '2022-11-23'}}\n"
     ]
    }
   ],
   "source": [
    "with open('director_credits_dict.json') as f:\n",
    "    director_credits_dict = json.load(f)\n",
    "print(director_credits_dict)"
   ]
  },
  {
   "cell_type": "code",
   "execution_count": 5,
   "metadata": {},
   "outputs": [
    {
     "name": "stdout",
     "output_type": "stream",
     "text": [
      "52fe49d29251416c750d4641 \t Amblin'\n",
      "5700afc4c3a3686e980049f1 \t Night Gallery\n",
      "5967ba58c3a36879cb005d3f \t LA 2017\n",
      "52fe427ec3a36847f8023361 \t Duel\n",
      "52fe49459251416c910a7f33 \t Something Evil\n",
      "52fe4ae4c3a36847f81e7215 \t Savage\n",
      "52fe43f4c3a36847f807a475 \t The Sugarland Express\n",
      "52fe4255c3a36847f801601f \t Jaws\n",
      "52fe427ec3a36847f8023453 \t Close Encounters of the Third Kind\n",
      "52fe44509251416c750306d3 \t 1941\n",
      "52fe4215c3a36847f8002a01 \t Raiders of the Lost Ark\n",
      "52fe425bc3a36847f8017ddd \t E.T. the Extra-Terrestrial\n",
      "52fe464c9251416c75073d33 \t Twilight Zone: The Movie\n",
      "52fe4215c3a36847f8002bf9 \t Indiana Jones and the Temple of Doom\n",
      "52fe4285c3a36847f80257ad \t The Color Purple\n",
      "5c445f3cc3a3681a06246edf \t Amazing Stories\n",
      "52fe43299251416c75005c95 \t Empire of the Sun\n",
      "52fe4216c3a36847f8002df5 \t Indiana Jones and the Last Crusade\n",
      "52fe442c9251416c7502b551 \t Always\n",
      "52fe4286c3a36847f8025c0d \t Hook\n",
      "52fe4238c3a36847f800d291 \t Jurassic Park\n",
      "52fe4241c3a36847f801024d \t Schindler's List\n",
      "52fe4238c3a36847f800d3ad \t The Lost World: Jurassic Park\n",
      "52fe448e9251416c75038f15 \t Amistad\n",
      "52fe4283c3a36847f8024ac1 \t Saving Private Ryan\n",
      "601db575202e1100415a99bf \t The Unfinished Journey\n",
      "52fe4263c3a36847f801a96b \t A.I. Artificial Intelligence\n",
      "52fe4223c3a36847f8006f3d \t Minority Report\n",
      "52fe4262c3a36847f801a5c3 \t Catch Me If You Can\n",
      "52fe4259c3a36847f801761f \t The Terminal\n",
      "52fe4213c3a36847f8002225 \t War of the Worlds\n",
      "52fe425dc3a36847f8018a53 \t Munich\n",
      "52fe4227c3a36847f800846d \t Indiana Jones and the Kingdom of the Crystal Skull\n",
      "5a7221930e0a265b040102c1 \t A Timeless Call\n",
      "52fe47349251416c7509142d \t The Adventures of Tintin\n",
      "52fe4928c3a36847f818c11d \t War Horse\n",
      "52fe4886c3a368484e0fd421 \t Lincoln\n",
      "5430507dc3a36831ac001073 \t Bridge of Spies\n",
      "536445f0c3a3681238000367 \t The BFG\n",
      "58c4313ac3a36853360000ff \t The Post\n",
      "551975f0925141731c003965 \t Ready Player One\n",
      "5aa9a77a9251410564000612 \t West Side Story\n",
      "6047b8ab54508d0077575f79 \t The Fabelmans\n"
     ]
    }
   ],
   "source": [
    "for id in director_credits_dict:\n",
    "    print(id, '\\t', director_credits_dict[id]['title'])"
   ]
  },
  {
   "cell_type": "code",
   "execution_count": 6,
   "metadata": {},
   "outputs": [
    {
     "name": "stdout",
     "output_type": "stream",
     "text": [
      "Amblin'\n",
      "Night Gallery\n",
      "LA 2017\n",
      "Duel\n",
      "Something Evil\n",
      "Savage\n",
      "The Sugarland Express\n",
      "Jaws\n",
      "Close Encounters of the Third Kind\n",
      "1941\n",
      "Raiders of the Lost Ark\n",
      "E.T. the Extra-Terrestrial\n",
      "Twilight Zone: The Movie\n",
      "Indiana Jones and the Temple of Doom\n",
      "The Color Purple\n",
      "Amazing Stories\n",
      "Empire of the Sun\n",
      "Indiana Jones and the Last Crusade\n",
      "Always\n",
      "Hook\n",
      "Jurassic Park\n",
      "Schindler's List\n",
      "The Lost World: Jurassic Park\n",
      "Amistad\n",
      "Saving Private Ryan\n",
      "The Unfinished Journey\n",
      "A.I. Artificial Intelligence\n",
      "Minority Report\n",
      "Catch Me If You Can\n",
      "The Terminal\n",
      "War of the Worlds\n",
      "Munich\n",
      "Indiana Jones and the Kingdom of the Crystal Skull\n",
      "A Timeless Call\n",
      "The Adventures of Tintin\n",
      "War Horse\n",
      "Lincoln\n",
      "Bridge of Spies\n",
      "The BFG\n",
      "The Post\n",
      "Ready Player One\n",
      "West Side Story\n",
      "The Fabelmans\n"
     ]
    }
   ],
   "source": [
    "for credit in director_credits_dict.values():\n",
    "    print(credit['title'])"
   ]
  },
  {
   "cell_type": "code",
   "execution_count": 4,
   "metadata": {},
   "outputs": [
    {
     "name": "stdout",
     "output_type": "stream",
     "text": [
      "52fe49d29251416c750d4641 \t Amblin'\n",
      "5700afc4c3a3686e980049f1 \t Night Gallery\n",
      "5967ba58c3a36879cb005d3f \t LA 2017\n",
      "52fe427ec3a36847f8023361 \t Duel\n",
      "52fe49459251416c910a7f33 \t Something Evil\n",
      "52fe4ae4c3a36847f81e7215 \t Savage\n",
      "52fe43f4c3a36847f807a475 \t The Sugarland Express\n",
      "52fe4255c3a36847f801601f \t Jaws\n",
      "52fe427ec3a36847f8023453 \t Close Encounters of the Third Kind\n",
      "52fe44509251416c750306d3 \t 1941\n",
      "52fe4215c3a36847f8002a01 \t Raiders of the Lost Ark\n",
      "52fe425bc3a36847f8017ddd \t E.T. the Extra-Terrestrial\n",
      "52fe464c9251416c75073d33 \t Twilight Zone: The Movie\n",
      "52fe4215c3a36847f8002bf9 \t Indiana Jones and the Temple of Doom\n",
      "52fe4285c3a36847f80257ad \t The Color Purple\n",
      "5c445f3cc3a3681a06246edf \t Amazing Stories\n",
      "52fe43299251416c75005c95 \t Empire of the Sun\n",
      "52fe4216c3a36847f8002df5 \t Indiana Jones and the Last Crusade\n",
      "52fe442c9251416c7502b551 \t Always\n",
      "52fe4286c3a36847f8025c0d \t Hook\n",
      "52fe4238c3a36847f800d291 \t Jurassic Park\n",
      "52fe4241c3a36847f801024d \t Schindler's List\n",
      "52fe4238c3a36847f800d3ad \t The Lost World: Jurassic Park\n",
      "52fe448e9251416c75038f15 \t Amistad\n",
      "52fe4283c3a36847f8024ac1 \t Saving Private Ryan\n",
      "601db575202e1100415a99bf \t The Unfinished Journey\n",
      "52fe4263c3a36847f801a96b \t A.I. Artificial Intelligence\n",
      "52fe4223c3a36847f8006f3d \t Minority Report\n",
      "52fe4262c3a36847f801a5c3 \t Catch Me If You Can\n",
      "52fe4259c3a36847f801761f \t The Terminal\n",
      "52fe4213c3a36847f8002225 \t War of the Worlds\n",
      "52fe425dc3a36847f8018a53 \t Munich\n",
      "52fe4227c3a36847f800846d \t Indiana Jones and the Kingdom of the Crystal Skull\n",
      "5a7221930e0a265b040102c1 \t A Timeless Call\n",
      "52fe47349251416c7509142d \t The Adventures of Tintin\n",
      "52fe4928c3a36847f818c11d \t War Horse\n",
      "52fe4886c3a368484e0fd421 \t Lincoln\n",
      "5430507dc3a36831ac001073 \t Bridge of Spies\n",
      "536445f0c3a3681238000367 \t The BFG\n",
      "58c4313ac3a36853360000ff \t The Post\n",
      "551975f0925141731c003965 \t Ready Player One\n",
      "5aa9a77a9251410564000612 \t West Side Story\n",
      "6047b8ab54508d0077575f79 \t The Fabelmans\n"
     ]
    }
   ],
   "source": [
    "for id, credit in director_credits_dict.items():\n",
    "    print(id, '\\t', credit['title'])"
   ]
  },
  {
   "cell_type": "code",
   "execution_count": null,
   "metadata": {},
   "outputs": [],
   "source": []
  }
 ],
 "metadata": {
  "kernelspec": {
   "display_name": "Python 3",
   "language": "python",
   "name": "python3"
  },
  "language_info": {
   "codemirror_mode": {
    "name": "ipython",
    "version": 3
   },
   "file_extension": ".py",
   "mimetype": "text/x-python",
   "name": "python",
   "nbconvert_exporter": "python",
   "pygments_lexer": "ipython3",
   "version": "3.7.3"
  }
 },
 "nbformat": 4,
 "nbformat_minor": 2
}
